{
  "nbformat": 4,
  "nbformat_minor": 0,
  "metadata": {
    "colab": {
      "provenance": [],
      "authorship_tag": "ABX9TyPgaa+97UZAjgLwlc4LKd3o",
      "include_colab_link": true
    },
    "kernelspec": {
      "name": "python3",
      "display_name": "Python 3"
    },
    "language_info": {
      "name": "python"
    }
  },
  "cells": [
    {
      "cell_type": "markdown",
      "metadata": {
        "id": "view-in-github",
        "colab_type": "text"
      },
      "source": [
        "<a href=\"https://colab.research.google.com/github/24danielcr/inteligencia-artificial/blob/main/Proyecto-Investigacion/Modelos.ipynb\" target=\"_parent\"><img src=\"https://colab.research.google.com/assets/colab-badge.svg\" alt=\"Open In Colab\"/></a>"
      ]
    },
    {
      "cell_type": "markdown",
      "source": [
        "# Clasificacion de sonidos estridentes con espectrogramas\n",
        "\n",
        "**Integrantes:**\n",
        "- Christopher Víquez Aguilar - christopherviquezaguilar@gmail.com"
      ],
      "metadata": {
        "id": "G2sYA1JZxTHV"
      }
    },
    {
      "cell_type": "markdown",
      "source": [
        "# Librerias"
      ],
      "metadata": {
        "id": "Ip3BxaHFyA9v"
      }
    },
    {
      "cell_type": "code",
      "source": [
        "import numpy as np\n",
        "import pandas as pd\n",
        "from tensorflow.keras.preprocessing.image import ImageDataGenerator, load_img\n",
        "from keras.utils import to_categorical\n",
        "from sklearn.model_selection import train_test_split\n",
        "import matplotlib.pyplot as plt\n",
        "import random\n",
        "import os"
      ],
      "metadata": {
        "id": "oiNPP-ZVyCwD"
      },
      "execution_count": null,
      "outputs": []
    },
    {
      "cell_type": "markdown",
      "source": [
        "# Carga de datos"
      ],
      "metadata": {
        "id": "Ap2dq3kPxq6W"
      }
    },
    {
      "cell_type": "code",
      "execution_count": null,
      "metadata": {
        "id": "95byAFJnLvO1",
        "colab": {
          "base_uri": "https://localhost:8080/"
        },
        "outputId": "bf487189-fedb-442b-a700-3dc560f13955"
      },
      "outputs": [
        {
          "output_type": "stream",
          "name": "stdout",
          "text": [
            "['.config', 'sample_data']\n"
          ]
        }
      ],
      "source": [
        "print(os.listdir(\"/content\"))"
      ]
    },
    {
      "cell_type": "code",
      "source": [
        "!mkdir /content/repositorio"
      ],
      "metadata": {
        "id": "CHX4-XTXz5cy",
        "outputId": "25e3bb3a-2081-4c4c-c780-60cf6f83464a",
        "colab": {
          "base_uri": "https://localhost:8080/"
        }
      },
      "execution_count": 4,
      "outputs": [
        {
          "output_type": "stream",
          "name": "stdout",
          "text": [
            "mkdir: cannot create directory ‘/content/repositorio’: File exists\n",
            "Cloning into '/content/repositorio'...\n",
            "Host key verification failed.\n",
            "fatal: Could not read from remote repository.\n",
            "\n",
            "Please make sure you have the correct access rights\n",
            "and the repository exists.\n"
          ]
        }
      ]
    },
    {
      "cell_type": "code",
      "source": [],
      "metadata": {
        "id": "j1n7zxHG0wWw"
      },
      "execution_count": null,
      "outputs": []
    }
  ]
}